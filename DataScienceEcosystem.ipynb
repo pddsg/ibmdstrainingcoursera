{
 "cells": [
  {
   "cell_type": "code",
   "execution_count": 8,
   "id": "46d0554b-9fef-46fc-9d00-6dedf2445ba8",
   "metadata": {},
   "outputs": [
    {
     "data": {
      "text/html": [
       "<style>table {align:left;display:block} </style>"
      ],
      "text/plain": [
       "<IPython.core.display.HTML object>"
      ]
     },
     "execution_count": 8,
     "metadata": {},
     "output_type": "execute_result"
    }
   ],
   "source": [
    "## this aligns all tables in the notebook to the left side\n",
    "## for information, check out this address: https://stackoverflow.com/questions/21892570/ipython-notebook-align-table-to-the-left-of-cell\n",
    "from IPython.core.display import HTML\n",
    "table_css = 'table {align:left;display:block} '\n",
    "HTML('<style>{}</style>'.format(table_css))"
   ]
  },
  {
   "cell_type": "markdown",
   "id": "ca5dab5a-1206-4da5-b9ba-28feeebb06c4",
   "metadata": {},
   "source": [
    "# Data Science Tools and Ecosystem"
   ]
  },
  {
   "cell_type": "markdown",
   "id": "c0a64252-0446-4c79-968d-d03c7561b6df",
   "metadata": {},
   "source": [
    "In this notebook, Data Science Tools and Ecosystem are summarized."
   ]
  },
  {
   "cell_type": "markdown",
   "id": "4d469425-8c26-445b-8e12-5d0bd370badd",
   "metadata": {},
   "source": [
    "**Objectives:**\n",
    "* List popular languages for Data Science\n",
    "* List commonly used libraries\n",
    "* List common, open source tools for data science\n",
    "* Simple examples for evaluating arithmetic expressions\n",
    "* Use of Markdown and comments"
   ]
  },
  {
   "cell_type": "markdown",
   "id": "cdcf5091-ec91-45c7-8160-fa2b60247c52",
   "metadata": {},
   "source": [
    "Some of the popular languages that Data Scientists use are:\n",
    "1. Python\n",
    "2. R\n",
    "3. SQL\n",
    "4. Julia"
   ]
  },
  {
   "cell_type": "markdown",
   "id": "515c7933-6cc0-4fa3-ab0c-bb053b9f7574",
   "metadata": {},
   "source": [
    "Some of the commonly used libraries used by Data Scientists include:\n",
    "1. pandas\n",
    "2. TensorFlow\n",
    "3. numpy\n",
    "4. plotly\n",
    "5. SciPy\n",
    "6. SciKit"
   ]
  },
  {
   "cell_type": "markdown",
   "id": "44d6e883-ca32-4a24-a643-365ae22dbafa",
   "metadata": {},
   "source": [
    ">\n",
    "\n",
    "|Data Science Tools|\n",
    "--------------------\n",
    "|RStudio|\n",
    "|Jupyter notebook|\n",
    "|Jupyter lab|\n",
    "|Visual Studia Code|"
   ]
  },
  {
   "cell_type": "markdown",
   "id": "ec2721ab-ea16-4349-90b2-ba835cb5f2f4",
   "metadata": {},
   "source": [
    "### Below are a few examples of evaluating arithmetic expressions in Python"
   ]
  },
  {
   "cell_type": "code",
   "execution_count": 9,
   "id": "36aab666-2bf9-4e06-b77f-079d1aa9d4e3",
   "metadata": {},
   "outputs": [
    {
     "data": {
      "text/plain": [
       "17"
      ]
     },
     "execution_count": 9,
     "metadata": {},
     "output_type": "execute_result"
    }
   ],
   "source": [
    "# This a simple arithmetic expression to mutiply then add integers\n",
    "(3*4)+5"
   ]
  },
  {
   "cell_type": "code",
   "execution_count": 10,
   "id": "81c2f4af-53b1-4cdd-86a2-bd8478d235c1",
   "metadata": {},
   "outputs": [
    {
     "data": {
      "text/plain": [
       "3.3333333333333335"
      ]
     },
     "execution_count": 10,
     "metadata": {},
     "output_type": "execute_result"
    }
   ],
   "source": [
    "# This will convert 200 minutes to hours by diving by 60\n",
    "200/60"
   ]
  },
  {
   "cell_type": "markdown",
   "id": "3efc7726-0548-4876-a047-534a94cebaa5",
   "metadata": {},
   "source": [
    "## Author\n",
    "Patrick Galler"
   ]
  },
  {
   "cell_type": "code",
   "execution_count": null,
   "id": "5809ec68-f707-4b4f-b5fb-47ebb4d687bf",
   "metadata": {},
   "outputs": [],
   "source": []
  }
 ],
 "metadata": {
  "kernelspec": {
   "display_name": "Python 3 (ipykernel)",
   "language": "python",
   "name": "python3"
  },
  "language_info": {
   "codemirror_mode": {
    "name": "ipython",
    "version": 3
   },
   "file_extension": ".py",
   "mimetype": "text/x-python",
   "name": "python",
   "nbconvert_exporter": "python",
   "pygments_lexer": "ipython3",
   "version": "3.11.5"
  }
 },
 "nbformat": 4,
 "nbformat_minor": 5
}
